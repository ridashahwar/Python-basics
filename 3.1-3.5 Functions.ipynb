{
 "cells": [
  {
   "cell_type": "markdown",
   "metadata": {},
   "source": [
    "\n",
    "def: function_name(parameters):\n",
    "     ''''''\n",
    "     Doc string\n",
    "     ''''''\n",
    "     \n",
    "    1.Keyword 'def' marks the start of function header.\n",
    "    2.Parameters(arguments) through which we pass values to a function. These are optional.\n",
    "    3. A colon(:) to mark the end of function header.\n",
    "    4.Doc string describe what the funtion does. This is optional.\n",
    "    5.'return' statement to return a value from the function. this is optional.\n",
    "    \n",
    "    "
   ]
  },
  {
   "cell_type": "code",
   "execution_count": 2,
   "metadata": {},
   "outputs": [],
   "source": [
    "def print_name(name):\n",
    "    \"\"\"\n",
    "    This function prints the name\n",
    "    \"\"\"\n",
    "    print('hello!'+ str(name))\n",
    "    "
   ]
  },
  {
   "cell_type": "markdown",
   "metadata": {},
   "source": [
    "### Function call\n",
    "once we have defined a function, we can call it from anywhere"
   ]
  },
  {
   "cell_type": "code",
   "execution_count": 3,
   "metadata": {},
   "outputs": [
    {
     "name": "stdout",
     "output_type": "stream",
     "text": [
      "hello! varun\n"
     ]
    }
   ],
   "source": [
    "print_name(' varun')"
   ]
  },
  {
   "cell_type": "markdown",
   "metadata": {},
   "source": [
    "### Doc String\n",
    "the first string after the function header is called docstring and is short for documentation string.\n",
    "\n",
    "Although optional, documentation is good programming practice, always document your code.\n",
    "\n",
    "Doc string will be written in triple quotes so that docstring can extend up to multiple lines.\n",
    "\n"
   ]
  },
  {
   "cell_type": "code",
   "execution_count": 23,
   "metadata": {},
   "outputs": [
    {
     "name": "stdout",
     "output_type": "stream",
     "text": [
      "\n",
      "    This function prints the name\n",
      "    \n"
     ]
    }
   ],
   "source": [
    "print(print_name.__doc__) #print doc string of the function"
   ]
  },
  {
   "cell_type": "markdown",
   "metadata": {},
   "source": [
    "### Return statement  \n",
    "the return statement is used to exit a function and go back to the place from where it was called.\n",
    " \n",
    "Syntax:\n",
    "return [expression]\n",
    "\n",
    "Return statement can contain an expression which gets evaluated and the value is returned.\n",
    "\n",
    "If there is no expression in the statement or the return statement itself is not present inside function, then the function will return none object."
   ]
  },
  {
   "cell_type": "code",
   "execution_count": 35,
   "metadata": {},
   "outputs": [],
   "source": [
    "def get_sum(lst):\n",
    "    \"\"\"\n",
    "    this function returns the sum of all the elements in a list\n",
    "    \"\"\"\n",
    "    _sum = 0\n",
    "    # iterating over the list\n",
    "    \n",
    "    for num in lst:\n",
    "        _sum += num\n",
    "    return _sum"
   ]
  },
  {
   "cell_type": "code",
   "execution_count": 34,
   "metadata": {},
   "outputs": [
    {
     "name": "stdout",
     "output_type": "stream",
     "text": [
      "10\n"
     ]
    }
   ],
   "source": [
    "s = get_sum([1, 2, 3, 4])\n",
    "print(s)"
   ]
  },
  {
   "cell_type": "code",
   "execution_count": 36,
   "metadata": {},
   "outputs": [
    {
     "name": "stdout",
     "output_type": "stream",
     "text": [
      "\n",
      "    this function returns the sum of all the elements in a list\n",
      "    \n"
     ]
    }
   ],
   "source": [
    "# print doc string\n",
    "print(get_sum.__doc__) "
   ]
  },
  {
   "cell_type": "markdown",
   "metadata": {},
   "source": [
    "### How function works in Python?\n",
    " \n",
    "     def functionName():\n",
    "      ...........\n",
    "      ..........\n",
    " \n",
    "      ..........\n",
    "      .........\n",
    " \n",
    "      functionName();\n",
    "      .....\n",
    "      ....\n",
    " \n",
    " Scope and life time of variables\n",
    " Scope of a variable is the portion of a program where the variable is recognised\n",
    " \n",
    " Variables defined inside a function is not visible from outside.Hence,they have a local scope.\n",
    " \n",
    " Lifetime of a variable is the period throughout which the variable exits in the memory.\n",
    " \n",
    " the lifetime of variables inside a function is as long as the function executes.\n",
    " \n",
    " variables are destroyed once we return from the function.\n",
    " \n",
    " Examples:\n",
    " \n",
    " "
   ]
  },
  {
   "cell_type": "code",
   "execution_count": 39,
   "metadata": {},
   "outputs": [
    {
     "name": "stdout",
     "output_type": "stream",
     "text": [
      "this is local variable\n",
      "this is global variable\n",
      "this is global variable\n"
     ]
    },
    {
     "ename": "NameError",
     "evalue": "name 'local_var' is not defined",
     "output_type": "error",
     "traceback": [
      "\u001b[1;31m---------------------------------------------------------------------------\u001b[0m",
      "\u001b[1;31mNameError\u001b[0m                                 Traceback (most recent call last)",
      "\u001b[1;32m<ipython-input-39-53293015f2ce>\u001b[0m in \u001b[0;36m<module>\u001b[1;34m\u001b[0m\n\u001b[0;32m     17\u001b[0m \u001b[1;33m\u001b[0m\u001b[0m\n\u001b[0;32m     18\u001b[0m \u001b[1;31m#print local variable local_var\u001b[0m\u001b[1;33m\u001b[0m\u001b[1;33m\u001b[0m\u001b[1;33m\u001b[0m\u001b[0m\n\u001b[1;32m---> 19\u001b[1;33m \u001b[0mprint\u001b[0m\u001b[1;33m(\u001b[0m\u001b[0mlocal_var\u001b[0m\u001b[1;33m)\u001b[0m\u001b[1;33m\u001b[0m\u001b[1;33m\u001b[0m\u001b[0m\n\u001b[0m",
      "\u001b[1;31mNameError\u001b[0m: name 'local_var' is not defined"
     ]
    }
   ],
   "source": [
    "global_var = 'this is global variable'\n",
    "\n",
    "def test_life_time():\n",
    "    \"\"\"\n",
    "    this function test the life time of a variables\n",
    "    \"\"\"\n",
    "    \n",
    "    local_var = 'this is local variable'\n",
    "    print(local_var) #print local variable local_var\n",
    "    print(global_var) #print global variable global_var\n",
    "   \n",
    " #calling function\n",
    "test_life_time()\n",
    "\n",
    "#print global variable global_var\n",
    "print(global_var)\n",
    "\n",
    "#print local variable local_var\n",
    "print(local_var)"
   ]
  },
  {
   "cell_type": "markdown",
   "metadata": {},
   "source": [
    "### Python program to print higest common factor(HCF) of two numbers"
   ]
  },
  {
   "cell_type": "markdown",
   "metadata": {},
   "source": [
    "## def computeHCF(a,b):\n",
    "    \"\"\"\n",
    "    computing HCF of two numbers\n",
    "    \"\"\"\n",
    "    smaller = b if a>b else a #concise way of writing if else statement\n",
    "    hcf = 1\n",
    "    for i in range(1, smaller+1):\n",
    "            if (a% i==0 )and (b% i == 0):\n",
    "               hcf = i\n",
    "    return hcf\n",
    "num1 = 98\n",
    "num2 = 78\n",
    "    \n",
    "print('HCF of {0} and {1} is : {2}'.format(num1, num2, computeHCF(num1,num2)))\n",
    "    "
   ]
  },
  {
   "cell_type": "markdown",
   "metadata": {},
   "source": [
    "### Types of Functions\n",
    "1. Built in functions\n",
    "2. User defined functions\n"
   ]
  },
  {
   "cell_type": "markdown",
   "metadata": {},
   "source": [
    "### Built in functions\n",
    "\n",
    "1.abs()\n"
   ]
  },
  {
   "cell_type": "code",
   "execution_count": 50,
   "metadata": {},
   "outputs": [
    {
     "name": "stdout",
     "output_type": "stream",
     "text": [
      "100\n"
     ]
    }
   ],
   "source": [
    "# find the absolute value\n",
    "num= -100\n",
    "print(abs(num))"
   ]
  },
  {
   "cell_type": "markdown",
   "metadata": {},
   "source": [
    "2. all()\n",
    "\n",
    "#return value in all() function\n",
    "\n",
    "True: if alll elemets in an iterable are true.\n",
    "\n",
    "False:if any element in an iterable is false."
   ]
  },
  {
   "cell_type": "code",
   "execution_count": 51,
   "metadata": {},
   "outputs": [
    {
     "name": "stdout",
     "output_type": "stream",
     "text": [
      "True\n"
     ]
    }
   ],
   "source": [
    "lst = [1,2,3,4]\n",
    "print(all(lst))"
   ]
  },
  {
   "cell_type": "code",
   "execution_count": 52,
   "metadata": {},
   "outputs": [
    {
     "name": "stdout",
     "output_type": "stream",
     "text": [
      "False\n"
     ]
    }
   ],
   "source": [
    "lst= (0,2,3,4) #0 present in list\n",
    "print(all(lst))"
   ]
  },
  {
   "cell_type": "markdown",
   "metadata": {},
   "source": [
    "dir()\n",
    "The dir() tries to return a list of valid attributes of the object.\n",
    "\n",
    "if the object had dir() method, the method will be called and must return the list of attributes.\n",
    "\n",
    "if the object doesnt have dir() method, this method tries to find information from the dict attribute(if defined) and from type object. in this case, the list returned from dir() may not be complete.\n",
    "\n",
    "\n"
   ]
  },
  {
   "cell_type": "code",
   "execution_count": 53,
   "metadata": {},
   "outputs": [
    {
     "name": "stdout",
     "output_type": "stream",
     "text": [
      "['__add__', '__class__', '__contains__', '__delattr__', '__delitem__', '__dir__', '__doc__', '__eq__', '__format__', '__ge__', '__getattribute__', '__getitem__', '__gt__', '__hash__', '__iadd__', '__imul__', '__init__', '__init_subclass__', '__iter__', '__le__', '__len__', '__lt__', '__mul__', '__ne__', '__new__', '__reduce__', '__reduce_ex__', '__repr__', '__reversed__', '__rmul__', '__setattr__', '__setitem__', '__sizeof__', '__str__', '__subclasshook__', 'append', 'clear', 'copy', 'count', 'extend', 'index', 'insert', 'pop', 'remove', 'reverse', 'sort']\n"
     ]
    }
   ],
   "source": [
    "numbers = [1,2,3]\n",
    "\n",
    "print(dir(numbers))"
   ]
  },
  {
   "cell_type": "markdown",
   "metadata": {},
   "source": [
    "### divmod()\n",
    "the divmod()method takes two numbers and returns a pair of numbers(a tuple) consisting of thier quotient and remainder.\n"
   ]
  },
  {
   "cell_type": "code",
   "execution_count": 54,
   "metadata": {},
   "outputs": [
    {
     "name": "stdout",
     "output_type": "stream",
     "text": [
      "(4, 1)\n"
     ]
    }
   ],
   "source": [
    "print(divmod(9,2)) # print quotient and remainder as a tuple.\n",
    "# try with other number\n"
   ]
  },
  {
   "cell_type": "markdown",
   "metadata": {},
   "source": [
    "enumerate()\n",
    "\n",
    "The enumerate() method adds counter to an iterable and returns it.\n",
    "\n",
    "syntax: enumerate(iterable, start= 0)\n"
   ]
  },
  {
   "cell_type": "code",
   "execution_count": 46,
   "metadata": {},
   "outputs": [
    {
     "name": "stdout",
     "output_type": "stream",
     "text": [
      "index0has value10\n",
      "index1has value20\n",
      "index2has value30\n",
      "index3has value40\n"
     ]
    }
   ],
   "source": [
    "numbers = [10,20,30,40]\n",
    "\n",
    "for index, num in enumerate(numbers):\n",
    "    print('index{0}has value{1}'.format(index, num))"
   ]
  },
  {
   "cell_type": "markdown",
   "metadata": {},
   "source": [
    "Filter()\n",
    "The filter() method constructs an iterator from elements of an iterable for which a function returns true.\n",
    "\n",
    "syntax: filter(function,iterable)\n",
    "\n"
   ]
  },
  {
   "cell_type": "code",
   "execution_count": 58,
   "metadata": {},
   "outputs": [],
   "source": [
    "def find_positive_number(num):\n",
    "    \"\"\"\n",
    "    This function returns the positive number if num is positive \n",
    "    \"\"\"\n",
    "    if num>0:\n",
    "        return num\n",
    "    "
   ]
  },
  {
   "cell_type": "code",
   "execution_count": 59,
   "metadata": {},
   "outputs": [
    {
     "name": "stdout",
     "output_type": "stream",
     "text": [
      "[-10, -9, -8, -7, -6, -5, -4, -3, -2, -1, 0, 1, 2, 3, 4, 5, 6, 7, 8, 9]\n",
      "[1, 2, 3, 4, 5, 6, 7, 8, 9]\n"
     ]
    }
   ],
   "source": [
    "number_list= range(-10,10) # create a list with numbers from -10 to 10\n",
    "print(list(number_list))\n",
    "\n",
    "positive_num_lst = list(filter(find_positive_number, number_list))\n",
    "print(positive_num_lst)\n",
    "\n"
   ]
  },
  {
   "cell_type": "markdown",
   "metadata": {},
   "source": [
    "### isinstance()\n",
    "the isinstance function checks if the object(first argument) is an instance or subclass of classinfo class(second argument)\n",
    "\n",
    "\n",
    "syntax:\n",
    "isinstance(object,classinfo)\n"
   ]
  },
  {
   "cell_type": "code",
   "execution_count": 61,
   "metadata": {},
   "outputs": [
    {
     "name": "stdout",
     "output_type": "stream",
     "text": [
      "True\n",
      "False\n"
     ]
    }
   ],
   "source": [
    "lst = [1,2,3,4]\n",
    "print(isinstance(lst,list))\n",
    "\n",
    "# try with other datatypes tuple,set\n",
    "t= (1,2,3,4)\n",
    "print(isinstance(t,list)) # "
   ]
  },
  {
   "cell_type": "markdown",
   "metadata": {},
   "source": [
    "### Map()\n",
    "\n",
    "Map applies a function to all the items in an input_list.\n",
    "\n",
    "syntax: map(function_to_apply, list_of_input)\n",
    "\n",
    "\n",
    "\n"
   ]
  },
  {
   "cell_type": "code",
   "execution_count": 63,
   "metadata": {},
   "outputs": [
    {
     "name": "stdout",
     "output_type": "stream",
     "text": [
      "[1, 4, 9, 16]\n"
     ]
    }
   ],
   "source": [
    "numbers = [1,2,3,4]\n",
    "\n",
    "# normal method of computing num*2 for each element in the list.\n",
    "squared = []\n",
    "for num in numbers:\n",
    "    squared.append(num**2)\n",
    "    \n",
    "print(squared)"
   ]
  },
  {
   "cell_type": "code",
   "execution_count": 2,
   "metadata": {},
   "outputs": [
    {
     "name": "stdout",
     "output_type": "stream",
     "text": [
      "[1, 4, 9, 16]\n"
     ]
    }
   ],
   "source": [
    "numbers = [1,2,3,4]\n",
    "def poweroftwo(num):\n",
    "    return num**2\n",
    "\n",
    "#using map() function\n",
    "squared = list(map(poweroftwo,numbers))\n",
    "print(squared)"
   ]
  },
  {
   "cell_type": "markdown",
   "metadata": {},
   "source": [
    "### reduce()\n",
    "reduce() function is for performing some computation on a list and returning the result.\n",
    "It applies a rolling computation to sequential pairs of values in a list.\n",
    "\n"
   ]
  },
  {
   "cell_type": "code",
   "execution_count": 6,
   "metadata": {},
   "outputs": [
    {
     "name": "stdout",
     "output_type": "stream",
     "text": [
      "24\n"
     ]
    }
   ],
   "source": [
    "# product of elements in a list\n",
    "\n",
    "product = 1\n",
    "lst = [1,2,3,4]\n",
    "\n",
    "#traditional program without reduce()\n",
    "for num in lst:\n",
    "    product *= num\n",
    "print(product)"
   ]
  },
  {
   "cell_type": "code",
   "execution_count": 8,
   "metadata": {},
   "outputs": [
    {
     "name": "stdout",
     "output_type": "stream",
     "text": [
      "24\n"
     ]
    }
   ],
   "source": [
    "# with reduce()\n",
    "from functools import reduce # in python 3.\n",
    "\n",
    "def multiply(x,y):\n",
    "    return x*y;\n",
    "product = reduce(multiply,lst)\n",
    "print(product)"
   ]
  },
  {
   "cell_type": "markdown",
   "metadata": {},
   "source": [
    "### Filter()\n",
    "the filter() method constructs an iterator from elements of an iterable for which a function returns true."
   ]
  },
  {
   "cell_type": "code",
   "execution_count": 51,
   "metadata": {},
   "outputs": [],
   "source": [
    "def find_positive_number(num):\n",
    "    \"\"\"\n",
    "    this function returns the positive number if num is positive \n",
    "    \"\"\"\n",
    "    if num > 0:\n",
    "        return num"
   ]
  },
  {
   "cell_type": "code",
   "execution_count": 52,
   "metadata": {},
   "outputs": [
    {
     "name": "stdout",
     "output_type": "stream",
     "text": [
      "[-10, -9, -8, -7, -6, -5, -4, -3, -2, -1, 0, 1, 2, 3, 4, 5, 6, 7, 8, 9]\n",
      "[1, 2, 3, 4, 5, 6, 7, 8, 9]\n"
     ]
    }
   ],
   "source": [
    "number_list = range(-10,10)\n",
    "print(list(number_list))\n",
    "positive_num_lst = list(filter(find_positive_number,number_list))\n",
    "print(positive_num_lst)"
   ]
  },
  {
   "cell_type": "markdown",
   "metadata": {},
   "source": [
    "### 2. User-defined functions\n",
    "\n",
    "Functions that we define ourselves to do certain specific task are refered as user-defined functions.\n",
    "\n",
    "If we use functions written by others in the form of library,it can be termed as library functions.\n",
    "\n",
    "Advantages\n",
    "\n",
    "1.User-defined functions help to decompose a large program into small segments which makes program easy to understand, maintain and debug.\n",
    "\n",
    "2. If repeated code occurs in a program. Function can be used to include those codes and execute when needed by calling that function.\n",
    "\n",
    "3. programmers working on large project can divide the workload by making different functions.\n",
    "\n",
    "\n",
    "Example:\n",
    "\n",
    "\n"
   ]
  },
  {
   "cell_type": "code",
   "execution_count": 1,
   "metadata": {},
   "outputs": [
    {
     "name": "stdout",
     "output_type": "stream",
     "text": [
      "product of 10 and 20 is 200\n"
     ]
    }
   ],
   "source": [
    "def product_numbers(a,b):\n",
    "     \"\"\"\n",
    "     This function returns the product of two numbers\n",
    "     \"\"\"\n",
    "     product = a * b\n",
    "     return product\n",
    "num1 = 10\n",
    "num2 = 20 \n",
    "print(\"product of {0} and {1} is {2}\".format(num1, num2, product_numbers(num1,num2)))"
   ]
  },
  {
   "cell_type": "markdown",
   "metadata": {},
   "source": [
    "Python Functions\n",
    "\n",
    "Function is a group of related statements that perform a specific task.\n",
    "\n",
    "Functions held break our program into smaller and modular chunks.As out program grows larger and larger, functions make it more organized and manageable.\n",
    "\n",
    "it avoids repetion and makes code reusable.\n",
    "\n",
    "Syntax: def: function_name(parameters): '''''' Doc string ''''''\n",
    "\n",
    "1.Keyword 'def' marks the start of function header.\n",
    "2.Parameters(arguments) through which we pass values to a function. These are optional.\n",
    "3. A colon(:) to mark the end of function header.\n",
    "4.Doc string describe what the funtion does. This is optional.\n",
    "5.'return' statement to return a value from the function. this is optional."
   ]
  },
  {
   "cell_type": "code",
   "execution_count": 2,
   "metadata": {},
   "outputs": [],
   "source": [
    "def print_name(name):\n",
    "\n",
    "    \"\"\"\n",
    "\n",
    "    This function prints the name\n",
    "\n",
    "    \"\"\"\n",
    "\n",
    "    print('hello!'+ str(name))\n",
    "   "
   ]
  },
  {
   "cell_type": "code",
   "execution_count": 3,
   "metadata": {},
   "outputs": [],
   "source": [
    "def print_name(name):\n",
    "\n",
    "    \"\"\"\n",
    "\n",
    "    This function prints the name\n",
    "\n",
    "    \"\"\"\n",
    "\n",
    "print('hello!'+ str(name))\n"
   ]
  },
  {
   "cell_type": "code",
   "execution_count": null,
   "metadata": {},
   "outputs": [],
   "source": [
    "Function call\n",
    "\n",
    "once we have defined a function, we can call it from anywhere\n",
    "\n",
    "print_name(' varun')\n",
    "\n",
    "hello! varun\n",
    "\n",
    "Doc String\n",
    "\n",
    "the first string after the function header is called docstring and is short for documentation string.\n",
    "\n",
    "Although optional, documentation is good programming practice, always document your code.\n",
    "\n",
    "Doc string will be written in triple quotes so that docstring can extend up to multiple lines.\n",
    "\n",
    "print(print_name.__doc__) #print doc string of the function\n",
    "\n",
    "\n",
    "    This function prints the name\n",
    "    \n",
    "\n",
    "Return statement\n",
    "\n",
    "the return statement is used to exit a function and go back to the place from where it was called.\n",
    "\n",
    "Syntax: return [expression]\n",
    "\n",
    "Return statement can contain an expression which gets evaluated and the value is returned.\n",
    "\n",
    "If there is no expression in the statement or the return statement itself is not present inside function, then the function will return none object.\n",
    "\n",
    "def get_sum(lst):\n",
    "\n",
    "    \"\"\"\n",
    "\n",
    "    this function returns the sum of all the elements in a list\n",
    "\n",
    "    \"\"\"\n",
    "\n",
    "    _sum = 0\n",
    "\n",
    "    # iterating over the list\n",
    "\n",
    "    \n",
    "\n",
    "    for num in lst:\n",
    "\n",
    "        _sum += num\n",
    "\n",
    "    return _sum\n",
    "\n",
    "s = get_sum([1, 2, 3, 4])\n",
    "\n",
    "print(s)\n",
    "\n",
    "10\n",
    "\n",
    "# print doc string\n",
    "\n",
    "print(get_sum.__doc__) #B9\n",
    "\n",
    "\n",
    "    this function returns the sum of all the elements in a list\n",
    "    \n",
    "\n",
    "How function works in Python?\n",
    "\n",
    " def functionName():\n",
    "  ...........\n",
    "  ..........\n",
    "\n",
    "  ..........\n",
    "  .........\n",
    "\n",
    "  functionName();\n",
    "  .....\n",
    "  ....\n",
    "\n",
    "Scope and life time of variables Scope of a variable is the portion of a program where the variable is recognised\n",
    "\n",
    "Variables defined inside a function is not visible from outside.Hence,they have a local scope.\n",
    "\n",
    "Lifetime of a variable is the period throughout which the variable exits in the memory.\n",
    "\n",
    "the lifetime of variables inside a function is as long as the function executes.\n",
    "\n",
    "variables are destroyed once we return from the function.\n",
    "\n",
    "Examples:\n",
    "\n",
    "global_var = 'this is global variable'\n",
    "\n",
    "​\n",
    "\n",
    "def test_life_time():\n",
    "\n",
    "    \"\"\"\n",
    "\n",
    "    this function test the life time of a variables\n",
    "\n",
    "    \"\"\"\n",
    "\n",
    "    \n",
    "\n",
    "    local_var = 'this is local variable'\n",
    "\n",
    "    print(local_var) #print local variable local_var\n",
    "\n",
    "    print(global_var) #print global variable global_var\n",
    "\n",
    "   \n",
    "\n",
    " #calling function\n",
    "\n",
    "test_life_time()\n",
    "\n",
    "​\n",
    "\n",
    "#print global variable global_var\n",
    "\n",
    "print(global_var)\n",
    "\n",
    "​\n",
    "\n",
    "#print local variable local_var\n",
    "\n",
    "print(local_var)\n",
    "\n",
    "this is local variable\n",
    "this is global variable\n",
    "this is global variable\n",
    "\n",
    "---------------------------------------------------------------------------\n",
    "NameError                                 Traceback (most recent call last)\n",
    "<ipython-input-39-53293015f2ce> in <module>\n",
    "     17 \n",
    "     18 #print local variable local_var\n",
    "---> 19 print(local_var)\n",
    "\n",
    "NameError: name 'local_var' is not defined\n",
    "\n",
    "Python program to print higest common factor(HCF) of two numbers\n",
    "def computeHCF(a,b):\n",
    "\n",
    "\"\"\"\n",
    "computing HCF of two numbers\n",
    "\"\"\"\n",
    "smaller = b if a>b else a #concise way of writing if else statement\n",
    "hcf = 1\n",
    "for i in range(1, smaller+1):\n",
    "        if (a% i==0 )and (b% i == 0):\n",
    "           hcf = i\n",
    "return hcf\n",
    "\n",
    "num1 = 98 num2 = 78\n",
    "\n",
    "print('HCF of {0} and {1} is : {2}'.format(num1, num2, computeHCF(num1,num2)))\n",
    "Types of Functions\n",
    "\n",
    "    Built in functions\n",
    "    User defined functions\n",
    "\n",
    "Built in functions\n",
    "\n",
    "1.abs()\n",
    "\n",
    "# find the absolute value\n",
    "\n",
    "num= -100\n",
    "\n",
    "print(abs(num))\n",
    "\n",
    "100\n",
    "\n",
    "    all()\n",
    "\n",
    "#return value in all() function\n",
    "\n",
    "True: if alll elemets in an iterable are true.\n",
    "\n",
    "False:if any element in an iterable is false.\n",
    "\n",
    "lst = [1,2,3,4]\n",
    "\n",
    "print(all(lst))\n",
    "\n",
    "True\n",
    "\n",
    "lst= (0,2,3,4) #0 present in list\n",
    "\n",
    "print(all(lst))\n",
    "\n",
    "False\n",
    "\n",
    "dir() The dir() tries to return a list of valid attributes of the object.\n",
    "\n",
    "if the object had dir() method, the method will be called and must return the list of attributes.\n",
    "\n",
    "if the object doesnt have dir() method, this method tries to find information from the dict attribute(if defined) and from type object. in this case, the list returned from dir() may not be complete.\n",
    "\n",
    "numbers = [1,2,3]\n",
    "\n",
    "​\n",
    "\n",
    "print(dir(numbers))\n",
    "\n",
    "['__add__', '__class__', '__contains__', '__delattr__', '__delitem__', '__dir__', '__doc__', '__eq__', '__format__', '__ge__', '__getattribute__', '__getitem__', '__gt__', '__hash__', '__iadd__', '__imul__', '__init__', '__init_subclass__', '__iter__', '__le__', '__len__', '__lt__', '__mul__', '__ne__', '__new__', '__reduce__', '__reduce_ex__', '__repr__', '__reversed__', '__rmul__', '__setattr__', '__setitem__', '__sizeof__', '__str__', '__subclasshook__', 'append', 'clear', 'copy', 'count', 'extend', 'index', 'insert', 'pop', 'remove', 'reverse', 'sort']\n",
    "\n",
    "divmod()\n",
    "\n",
    "the divmod()method takes two numbers and returns a pair of numbers(a tuple) consisting of thier quotient and remainder.\n",
    "\n",
    "print(divmod(9,2)) # print quotient and remainder as a tuple.\n",
    "\n",
    "# try with other number\n",
    "\n",
    "​\n",
    "\n",
    "(4, 1)\n",
    "\n",
    "enumerate()\n",
    "\n",
    "The enumerate() method adds counter to an iterable and returns it.\n",
    "\n",
    "syntax: enumerate(iterable, start= 0)\n",
    "\n",
    "numbers = [10,20,30,40]\n",
    "\n",
    "​\n",
    "\n",
    "for index, num in enumerate(numbers):\n",
    "\n",
    "    print('index{0}has value{1}'.format(index, num))\n",
    "\n",
    "index0has value10\n",
    "index1has value20\n",
    "index2has value30\n",
    "index3has value40\n",
    "\n",
    "Filter() The filter() method constructs an iterator from elements of an iterable for which a function returns true.\n",
    "\n",
    "syntax: filter(function,iterable)\n",
    "\n",
    "def find_positive_number(num):\n",
    "\n",
    "    \"\"\"\n",
    "\n",
    "    This function returns the positive number if num is positive \n",
    "\n",
    "    \"\"\"\n",
    "\n",
    "    if num>0:\n",
    "\n",
    "        return num\n",
    "\n",
    "    \n",
    "\n",
    "number_list= range(-10,10) # create a list with numbers from -10 to 10\n",
    "\n",
    "print(list(number_list))\n",
    "\n",
    "​\n",
    "\n",
    "positive_num_lst = list(filter(find_positive_number, number_list))\n",
    "\n",
    "print(positive_num_lst)\n",
    "\n",
    "​\n",
    "\n",
    "​\n",
    "\n",
    "[-10, -9, -8, -7, -6, -5, -4, -3, -2, -1, 0, 1, 2, 3, 4, 5, 6, 7, 8, 9]\n",
    "[1, 2, 3, 4, 5, 6, 7, 8, 9]\n",
    "\n",
    "isinstance()\n",
    "\n",
    "the isinstance function checks if the object(first argument) is an instance or subclass of classinfo class(second argument)\n",
    "\n",
    "syntax: isinstance(object,classinfo)\n",
    "\n",
    "lst = [1,2,3,4]\n",
    "\n",
    "print(isinstance(lst,list))\n",
    "\n",
    "​\n",
    "\n",
    "# try with other datatypes tuple,set\n",
    "\n",
    "t= (1,2,3,4)\n",
    "\n",
    "print(isinstance(t,list)) # \n",
    "\n",
    "True\n",
    "False\n",
    "\n",
    "Map()\n",
    "\n",
    "Map applies a function to all the items in an input_list.\n",
    "\n",
    "syntax: map(function_to_apply, list_of_input)\n",
    "\n",
    "numbers = [1,2,3,4]\n",
    "\n",
    "​\n",
    "\n",
    "# normal method of computing num*2 for each element in the list.\n",
    "\n",
    "squared = []\n",
    "\n",
    "for num in numbers:\n",
    "\n",
    "    squared.append(num**2)\n",
    "\n",
    "    \n",
    "\n",
    "print(squared)\n",
    "\n",
    "[1, 4, 9, 16]\n",
    "\n",
    "numbers = [1,2,3,4]\n",
    "\n",
    "def poweroftwo(num):\n",
    "\n",
    "    return num**2\n",
    "\n",
    "​\n",
    "\n",
    "#using map() function\n",
    "\n",
    "squared = list(map(poweroftwo,numbers))\n",
    "\n",
    "print(squared)\n",
    "\n",
    "[1, 4, 9, 16]\n",
    "\n",
    "reduce()\n",
    "\n",
    "reduce() function is for performing some computation on a list and returning the result. It applies a rolling computation to sequential pairs of values in a list.\n",
    "\n",
    "# product of elements in a list\n",
    "\n",
    "​\n",
    "\n",
    "product = 1\n",
    "\n",
    "lst = [1,2,3,4]\n",
    "\n",
    "​\n",
    "\n",
    "#traditional program without reduce()\n",
    "\n",
    "for num in lst:\n",
    "\n",
    "    product *= num\n",
    "\n",
    "print(product)\n",
    "\n",
    "24\n",
    "\n",
    "# with reduce()\n",
    "\n",
    "from functools import reduce # in python 3.\n",
    "\n",
    "​\n",
    "\n",
    "def multiply(x,y):\n",
    "\n",
    "    return x*y;\n",
    "\n",
    "product = reduce(multiply,lst)\n",
    "\n",
    "print(product)\n",
    "\n",
    "24\n",
    "\n",
    "Filter()\n",
    "\n",
    "the filter() method constructs an iterator from elements of an iterable for which a function returns true.\n",
    "\n",
    "def find_positive_number(num):\n",
    "\n",
    "    \"\"\"\n",
    "\n",
    "    this function returns the positive number if num is positive \n",
    "\n",
    "    \"\"\"\n",
    "\n",
    "    if num > 0:\n",
    "\n",
    "        return num\n",
    "\n",
    "number_list = range(-10,10)\n",
    "\n",
    "print(list(number_list))\n",
    "\n",
    "positive_num_lst = list(filter(find_positive_number,number_list))\n",
    "\n",
    "print(positive_num_lst)\n",
    "\n",
    "[-10, -9, -8, -7, -6, -5, -4, -3, -2, -1, 0, 1, 2, 3, 4, 5, 6, 7, 8, 9]\n",
    "[1, 2, 3, 4, 5, 6, 7, 8, 9]\n",
    "\n",
    "2. User-defined functions\n",
    "\n",
    "Functions that we define ourselves to do certain specific task are refered as user-defined functions.\n",
    "\n",
    "If we use functions written by others in the form of library,it can be termed as library functions.\n",
    "\n",
    "Advantages\n",
    "\n",
    "1.User-defined functions help to decompose a large program into small segments which makes program easy to understand, maintain and debug.\n",
    "\n",
    "    If repeated code occurs in a program. Function can be used to include those codes and execute when needed by calling that function.\n",
    "\n",
    "    programmers working on large project can divide the workload by making different functions.\n",
    "\n",
    "Example:\n",
    "\n",
    "​\n",
    "\n",
    "def product_numbers(a,b):\n",
    "\n",
    "     \"\"\"\n",
    "\n",
    "     This function returns the product of two numbers\n",
    "\n",
    "     \"\"\"\n",
    "\n",
    "     product = a * b\n",
    "\n",
    "     return product\n",
    "\n",
    "num1 = 10\n",
    "\n",
    "num2 = 20 \n",
    "\n",
    "print(\"product of {0} and {1} is {2}\".format(num1, num2, product_numbers(num1,num2)))\n",
    "\n",
    "        "
   ]
  },
  {
   "cell_type": "code",
   "execution_count": null,
   "metadata": {},
   "outputs": [],
   "source": []
  },
  {
   "cell_type": "markdown",
   "metadata": {},
   "source": [
    "Python program to make a simple calculator that can add, substract, multiply and division"
   ]
  },
  {
   "cell_type": "code",
   "execution_count": 7,
   "metadata": {},
   "outputs": [
    {
     "name": "stdout",
     "output_type": "stream",
     "text": [
      "Selection option\n",
      "1.Addition\n",
      "2.Substraction\n",
      "3.Multiplication\n",
      "4.Division\n",
      "enter choice 1/2/3/44\n",
      "enter first number:12\n",
      "enter second number:24\n",
      "Division of 12.0 and 24.0 is 0.5\n"
     ]
    }
   ],
   "source": [
    "def add(a,b):\n",
    "    \"\"\"\n",
    "    This function adds two numbers\n",
    "    \"\"\"\n",
    "    return a+b\n",
    "def multiply(a,b):\n",
    "    \"\"\"\n",
    "    This function multiply two numbers\n",
    "    \"\"\"\n",
    "    return a*b\n",
    "def substract(a,b):\n",
    "    \"\"\"\n",
    "    this function substract two numbers\n",
    "    \"\"\"\n",
    "    return a-b\n",
    "def division(a,b):\n",
    "    \"\"\"\n",
    "    this function division two numbers\n",
    "    \"\"\"\n",
    "    return a/b\n",
    "print(\"Selection option\")\n",
    "print(\"1.Addition\")\n",
    "print(\"2.Substraction\")\n",
    "print(\"3.Multiplication\")\n",
    "print(\"4.Division\")\n",
    "\n",
    "# take input from user\n",
    "choice = int(input(\"enter choice 1/2/3/4\"))\n",
    "\n",
    "num1 = float(input(\"enter first number:\"))\n",
    "num2 = float(input(\"enter second number:\"))\n",
    "\n",
    "if choice == 1:\n",
    "    print(\"Addition of {0} and {1} is  {2}\".format(num1,num2,add(num1,num2))\n",
    "    )\n",
    "elif choice == 2:\n",
    "    print(\"substraction of {0} and {1} is {2}\".format(num1,num2,substract(num1,num2))\n",
    "    )  \n",
    "elif choice == 3:\n",
    "    print(\"multiplication of {0} and {1} is {2}\".format(num1,num2,multiply(num1,num2))\n",
    "    )\n",
    "elif choice == 4:\n",
    "    print(\"Division of {0} and {1} is {2}\".format(num1,num2,division(num1,num2))\n",
    "    )\n",
    "else:\n",
    "    print(\"invalid choice\")"
   ]
  },
  {
   "cell_type": "markdown",
   "metadata": {},
   "source": [
    "### Function Arguments\n"
   ]
  },
  {
   "cell_type": "code",
   "execution_count": 6,
   "metadata": {},
   "outputs": [
    {
     "name": "stdout",
     "output_type": "stream",
     "text": [
      "hello Prasad,Good Afternoon\n"
     ]
    }
   ],
   "source": [
    "def greet(name,msg):\n",
    "    \"\"\"\n",
    "    this function greets to person with the provided message\n",
    "    \"\"\"\n",
    "    print('hello {0},{1}'.format(name,msg))\n",
    "    \n",
    "# call the function with arguments\n",
    "greet(\"Prasad\",'Good Afternoon')"
   ]
  },
  {
   "cell_type": "code",
   "execution_count": 8,
   "metadata": {},
   "outputs": [
    {
     "ename": "TypeError",
     "evalue": "greet() missing 1 required positional argument: 'msg'",
     "output_type": "error",
     "traceback": [
      "\u001b[1;31m---------------------------------------------------------------------------\u001b[0m",
      "\u001b[1;31mTypeError\u001b[0m                                 Traceback (most recent call last)",
      "\u001b[1;32m<ipython-input-8-f4943843ef69>\u001b[0m in \u001b[0;36m<module>\u001b[1;34m\u001b[0m\n\u001b[0;32m      1\u001b[0m \u001b[1;31m# suppose if we pass one argument\u001b[0m\u001b[1;33m\u001b[0m\u001b[1;33m\u001b[0m\u001b[1;33m\u001b[0m\u001b[0m\n\u001b[0;32m      2\u001b[0m \u001b[1;33m\u001b[0m\u001b[0m\n\u001b[1;32m----> 3\u001b[1;33m \u001b[0mgreet\u001b[0m\u001b[1;33m(\u001b[0m\u001b[1;34m\"sathish\"\u001b[0m\u001b[1;33m)\u001b[0m \u001b[1;31m# will get an error\u001b[0m\u001b[1;33m\u001b[0m\u001b[1;33m\u001b[0m\u001b[0m\n\u001b[0m",
      "\u001b[1;31mTypeError\u001b[0m: greet() missing 1 required positional argument: 'msg'"
     ]
    }
   ],
   "source": [
    "# suppose if we pass one argument\n",
    "\n",
    "greet(\"sathish\") # will get an error\n"
   ]
  },
  {
   "cell_type": "markdown",
   "metadata": {},
   "source": [
    "### Different Forms of arguments"
   ]
  },
  {
   "cell_type": "markdown",
   "metadata": {},
   "source": [
    "we can provide a default value to an argument by using the assignment operator(=)"
   ]
  },
  {
   "cell_type": "code",
   "execution_count": 9,
   "metadata": {},
   "outputs": [
    {
     "name": "stdout",
     "output_type": "stream",
     "text": [
      "hello Prasad,Good Afternoon\n"
     ]
    }
   ],
   "source": [
    "def greet(name,msg = 'Good Morning'):\n",
    "    \"\"\"\n",
    "    this function greets to person with the provided message\n",
    "    if message is not provided, it defaults to 'Good morning'\n",
    "    \"\"\"\n",
    "    print('hello {0},{1}'.format(name,msg))\n",
    "    \n",
    "# call the function with arguments\n",
    "greet(\"Prasad\",'Good Afternoon')"
   ]
  },
  {
   "cell_type": "code",
   "execution_count": 10,
   "metadata": {},
   "outputs": [
    {
     "name": "stdout",
     "output_type": "stream",
     "text": [
      "hello prasad,Good Morning\n"
     ]
    }
   ],
   "source": [
    "# without message argument\n",
    "greet('prasad')"
   ]
  },
  {
   "cell_type": "markdown",
   "metadata": {},
   "source": [
    "Once we have a default argument, ll the arguments to its right must also have default value.\n",
    "\n",
    "def greet(msg= 'good morning',name)\n",
    "\n",
    "#will get a syntax error: non-default argument follows default argument "
   ]
  },
  {
   "cell_type": "markdown",
   "metadata": {},
   "source": [
    " ### 2. Keyword Arguments\n",
    "Kwargs allows you to pass keyworded variable length of arguments to a function. You should use kwargs if you want to handle named arguments in a function.\n"
   ]
  },
  {
   "cell_type": "code",
   "execution_count": 1,
   "metadata": {},
   "outputs": [
    {
     "name": "stdout",
     "output_type": "stream",
     "text": [
      "hello sathish,good morning\n"
     ]
    }
   ],
   "source": [
    "def greet(**kwargs):\n",
    "    \"\"\"\n",
    "    this function greets to person with the provided  message\n",
    "    \"\"\"\n",
    "    if kwargs:\n",
    "        print('hello {0},{1}'.format(kwargs['name'],kwargs['msg'])\n",
    "             )\n",
    "greet(name='sathish',msg = 'good morning')\n",
    "    "
   ]
  },
  {
   "cell_type": "markdown",
   "metadata": {},
   "source": [
    "###3.Arbitary arguments\n",
    "\n",
    "Sometimes, we do not know in advance the number of arguments that will be passed into a function. Python allows us to handle this kind of situation through function calls with arbituary number of arguments.\n",
    "\n",
    "Example:\n",
    "\n"
   ]
  },
  {
   "cell_type": "code",
   "execution_count": 3,
   "metadata": {},
   "outputs": [
    {
     "name": "stdout",
     "output_type": "stream",
     "text": [
      "('prasad', 'ramani', 'varun', 'charan')\n",
      "helo,prasad\n",
      "helo,ramani\n",
      "helo,varun\n",
      "helo,charan\n"
     ]
    }
   ],
   "source": [
    "def greet(*names):\n",
    "    \"\"\"\n",
    "    This function greets all persons in the names tuple\n",
    "    \"\"\"\n",
    "    print(names)\n",
    "    for name in names:\n",
    "        print('helo,{0}'.format(name))\n",
    "greet('prasad','ramani','varun','charan')        "
   ]
  },
  {
   "cell_type": "markdown",
   "metadata": {},
   "source": [
    "### Recursion\n",
    "\n",
    "we know that in python, a function can call other functions.It is even possible for the function to call itself.These type of construct are termed as recursive functions.\n",
    "\n",
    "Example:"
   ]
  },
  {
   "cell_type": "code",
   "execution_count": 36,
   "metadata": {},
   "outputs": [
    {
     "name": "stdout",
     "output_type": "stream",
     "text": [
      "factorial of 5 is 120\n"
     ]
    }
   ],
   "source": [
    " # python program to print factorial of a number using recursion\n",
    " \n",
    " def factorial(num):\n",
    "     \"\"\"\n",
    "     This is a recursive function to find the factorial of a given number\n",
    "     \"\"\"\n",
    "     return 1 if num==1 else (num*factorial(num-1))\n",
    "     \n",
    " num= 5\n",
    " print('factorial of {0} is {1}'.format(num,factorial(num)))\n",
    " \n",
    "     \n",
    "     \n",
    "    "
   ]
  },
  {
   "cell_type": "markdown",
   "metadata": {},
   "source": [
    "### Advantages\n",
    "1.Recursive functions make the code look clean and elegant.\n",
    "2.a complex task can be broken down into simpler sub-problems using recursion.\n",
    "3.Sequence generation is easier with recursion than using some nested iteration.\n",
    "\n",
    "### Disadvantages\n",
    "1.Sometimes the logic behind recursion is hard to follow through.\n",
    "2.recursive calls are expensive(inefficient) as they take up a lot of memory and time.\n",
    "3.recursive functions are hard to debug.\n"
   ]
  },
  {
   "cell_type": "markdown",
   "metadata": {},
   "source": [
    "Python program to display the fibonacci sequence up to nth term using recursive function.\n"
   ]
  },
  {
   "cell_type": "code",
   "execution_count": 21,
   "metadata": {},
   "outputs": [
    {
     "name": "stdout",
     "output_type": "stream",
     "text": [
      "Fibonacci sequence\n",
      "0\n",
      "1\n",
      "1\n",
      "2\n",
      "3\n",
      "5\n",
      "8\n",
      "13\n",
      "21\n",
      "34\n"
     ]
    }
   ],
   "source": [
    "def fibonacci(num):\n",
    "    \"\"\"\n",
    "    recursive function to print fibonacci sequence\n",
    "    \"\"\"\n",
    "    return num if num <= 1 else fibonacci(num-1) + fibonacci(num-2)\n",
    "\n",
    "nterms = 10\n",
    "print (\"Fibonacci sequence\")\n",
    "for num in range(nterms):\n",
    "    print (fibonacci(num))"
   ]
  },
  {
   "cell_type": "markdown",
   "metadata": {},
   "source": [
    "### Anonymous /lambda function\n",
    "In Python, anonymous function is a function that is defined without a name.\n",
    "\n",
    "While normal functions are defined using the def keyword, in Python anonymous functions are defined using the lambda keyword.\n",
    "\n",
    "lambda functions are used  extensively along with built in functions like filter(),map\n",
    "\n",
    "syntax:\n",
    "\n",
    "lambda arguments: expression\n",
    "\n",
    "example:\n",
    "\n",
    "\n"
   ]
  },
  {
   "cell_type": "code",
   "execution_count": 4,
   "metadata": {},
   "outputs": [
    {
     "name": "stdout",
     "output_type": "stream",
     "text": [
      "25\n"
     ]
    }
   ],
   "source": [
    "double = lambda x:x**2\n",
    "print(double(5))"
   ]
  },
  {
   "cell_type": "code",
   "execution_count": 23,
   "metadata": {},
   "outputs": [
    {
     "name": "stdout",
     "output_type": "stream",
     "text": [
      "10\n"
     ]
    }
   ],
   "source": [
    "def double(x):\n",
    "    return x*2\n",
    "print(double(5))"
   ]
  },
  {
   "cell_type": "code",
   "execution_count": 26,
   "metadata": {},
   "outputs": [
    {
     "name": "stdout",
     "output_type": "stream",
     "text": [
      "[2, 4]\n"
     ]
    }
   ],
   "source": [
    "# example use with filter()\n",
    "lst = [1,2,3,4,5]\n",
    "even_lst = list(filter(lambda x: (x%2 ==0),lst))\n",
    "print(even_lst)"
   ]
  },
  {
   "cell_type": "code",
   "execution_count": 27,
   "metadata": {},
   "outputs": [
    {
     "name": "stdout",
     "output_type": "stream",
     "text": [
      "[1, 4, 9, 16, 25]\n"
     ]
    }
   ],
   "source": [
    "# example use with map()\n",
    "lst = [1,2,3,4,5]\n",
    "new_lst = list(map(lambda x: x**2 ,lst))\n",
    "print(new_lst)"
   ]
  },
  {
   "cell_type": "markdown",
   "metadata": {},
   "source": [
    "reduce() in Python.\n",
    "    reduce() is defined in “functools” module, accumulate() in “itertools” module.\n",
    "    reduce() stores the intermediate result and only returns the final summation value. Whereas, accumulate() returns a iterator containing the ...\n",
    "    reduce(fun,seq) takes function as 1st and sequence as 2nd argument. In contrast accumulate(seq,fun) takes sequence as 1st argument and function as .."
   ]
  },
  {
   "cell_type": "code",
   "execution_count": 35,
   "metadata": {},
   "outputs": [
    {
     "name": "stdout",
     "output_type": "stream",
     "text": [
      "120\n"
     ]
    }
   ],
   "source": [
    "# example use with reduce()\n",
    "from functools import reduce\n",
    "lst = [1,2,3,4,5]\n",
    "product_lst = reduce(lambda x,y : x*y,lst)\n",
    "print(product_lst)"
   ]
  },
  {
   "cell_type": "code",
   "execution_count": 2,
   "metadata": {},
   "outputs": [
    {
     "ename": "NameError",
     "evalue": "name 'sort' is not defined",
     "output_type": "error",
     "traceback": [
      "\u001b[1;31m---------------------------------------------------------------------------\u001b[0m",
      "\u001b[1;31mNameError\u001b[0m                                 Traceback (most recent call last)",
      "\u001b[1;32m<ipython-input-2-f875e6a31e77>\u001b[0m in \u001b[0;36m<module>\u001b[1;34m\u001b[0m\n\u001b[1;32m----> 1\u001b[1;33m \u001b[0mhelp\u001b[0m\u001b[1;33m(\u001b[0m\u001b[0msort\u001b[0m\u001b[1;33m)\u001b[0m\u001b[1;33m\u001b[0m\u001b[1;33m\u001b[0m\u001b[0m\n\u001b[0m",
      "\u001b[1;31mNameError\u001b[0m: name 'sort' is not defined"
     ]
    }
   ],
   "source": [
    "help(sort)"
   ]
  },
  {
   "cell_type": "code",
   "execution_count": null,
   "metadata": {},
   "outputs": [],
   "source": []
  }
 ],
 "metadata": {
  "kernelspec": {
   "display_name": "Python 3",
   "language": "python",
   "name": "python3"
  },
  "language_info": {
   "codemirror_mode": {
    "name": "ipython",
    "version": 3
   },
   "file_extension": ".py",
   "mimetype": "text/x-python",
   "name": "python",
   "nbconvert_exporter": "python",
   "pygments_lexer": "ipython3",
   "version": "3.8.5"
  }
 },
 "nbformat": 4,
 "nbformat_minor": 2
}
