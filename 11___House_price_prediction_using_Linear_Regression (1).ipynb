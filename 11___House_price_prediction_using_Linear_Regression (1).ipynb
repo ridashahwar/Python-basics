{
 "cells": [
  {
   "cell_type": "markdown",
   "metadata": {
    "id": "I1VRs4tZkbvW"
   },
   "source": [
    "# 11 | House price prediction using Linear Regression-SingleVariable**"
   ]
  },
  {
   "cell_type": "markdown",
   "metadata": {
    "id": "SAFLqwkKk8rK"
   },
   "source": [
    "### *Import Libraries*"
   ]
  },
  {
   "cell_type": "code",
   "execution_count": 1,
   "metadata": {
    "id": "EgF2lvr_jzVL"
   },
   "outputs": [],
   "source": [
    "import pandas as pd\n",
    "from sklearn.linear_model import LinearRegression \n",
    "import matplotlib.pyplot as plt"
   ]
  },
  {
   "cell_type": "markdown",
   "metadata": {
    "id": "XWe_7j6UjxRj"
   },
   "source": [
    "### *Load Dataset from Local Directory*"
   ]
  },
  {
   "cell_type": "code",
   "execution_count": 2,
   "metadata": {
    "id": "vKrHCJk_jwfJ"
   },
   "outputs": [
    {
     "ename": "ModuleNotFoundError",
     "evalue": "No module named 'google'",
     "output_type": "error",
     "traceback": [
      "\u001b[1;31m---------------------------------------------------------------------------\u001b[0m",
      "\u001b[1;31mModuleNotFoundError\u001b[0m                       Traceback (most recent call last)",
      "\u001b[1;32m<ipython-input-2-21dc3c638f66>\u001b[0m in \u001b[0;36m<module>\u001b[1;34m\u001b[0m\n\u001b[1;32m----> 1\u001b[1;33m \u001b[1;32mfrom\u001b[0m \u001b[0mgoogle\u001b[0m\u001b[1;33m.\u001b[0m\u001b[0mcolab\u001b[0m \u001b[1;32mimport\u001b[0m \u001b[0mfiles\u001b[0m\u001b[1;33m\u001b[0m\u001b[1;33m\u001b[0m\u001b[0m\n\u001b[0m\u001b[0;32m      2\u001b[0m \u001b[0muploaded\u001b[0m \u001b[1;33m=\u001b[0m \u001b[0mfiles\u001b[0m\u001b[1;33m.\u001b[0m\u001b[0mupload\u001b[0m\u001b[1;33m(\u001b[0m\u001b[1;33m)\u001b[0m\u001b[1;33m\u001b[0m\u001b[1;33m\u001b[0m\u001b[0m\n",
      "\u001b[1;31mModuleNotFoundError\u001b[0m: No module named 'google'"
     ]
    }
   ],
   "source": [
    "from google.colab import files\n",
    "uploaded = files.upload()"
   ]
  },
  {
   "cell_type": "markdown",
   "metadata": {
    "id": "6gXowmSom462"
   },
   "source": [
    "### *Load Dataset*"
   ]
  },
  {
   "cell_type": "code",
   "execution_count": null,
   "metadata": {
    "id": "6JLDHSdym6wP"
   },
   "outputs": [],
   "source": [
    "dataset = pd.read_csv('dataset.csv')"
   ]
  },
  {
   "cell_type": "markdown",
   "metadata": {
    "id": "-DdkIy1ZnDfA"
   },
   "source": [
    "### *Load Summarize*"
   ]
  },
  {
   "cell_type": "code",
   "execution_count": null,
   "metadata": {
    "id": "OlElQViRnGFp"
   },
   "outputs": [],
   "source": [
    "print(dataset.shape)\n",
    "print(dataset.head(5))"
   ]
  },
  {
   "cell_type": "markdown",
   "metadata": {
    "id": "p5yk_BN4nMtD"
   },
   "source": [
    "### *Visualize Dataset*"
   ]
  },
  {
   "cell_type": "code",
   "execution_count": null,
   "metadata": {
    "id": "a8Mi5nkFnOTQ"
   },
   "outputs": [],
   "source": [
    "plt.xlabel('Area')\n",
    "plt.ylabel('Price')\n",
    "plt.scatter(dataset.area,dataset.price,color='red',marker='*')"
   ]
  },
  {
   "cell_type": "markdown",
   "metadata": {
    "id": "JRyfB6prpJDP"
   },
   "source": [
    "### *Segregate Dataset into Input X & Output Y*"
   ]
  },
  {
   "cell_type": "code",
   "execution_count": null,
   "metadata": {
    "id": "x9dQcTohpK1X"
   },
   "outputs": [],
   "source": [
    "X = dataset.drop('price',axis='columns')\n",
    "X"
   ]
  },
  {
   "cell_type": "code",
   "execution_count": null,
   "metadata": {
    "id": "SqxVaBO0pf1W"
   },
   "outputs": [],
   "source": [
    "Y = dataset.price\n",
    "Y"
   ]
  },
  {
   "cell_type": "markdown",
   "metadata": {
    "id": "KsDoGjjbpmjk"
   },
   "source": [
    "### *Training Dataset using Linear Regression*"
   ]
  },
  {
   "cell_type": "code",
   "execution_count": null,
   "metadata": {
    "id": "nKmEySI1poV_"
   },
   "outputs": [],
   "source": [
    "model = LinearRegression()\n",
    "model.fit(X,Y)"
   ]
  },
  {
   "cell_type": "markdown",
   "metadata": {
    "id": "n-UeFqpGpw9p"
   },
   "source": [
    "### *Predicted Price for Land sq.Feet of custom values*"
   ]
  },
  {
   "cell_type": "code",
   "execution_count": null,
   "metadata": {
    "id": "Ollo3wTcpyKQ"
   },
   "outputs": [],
   "source": [
    "x=40000\n",
    "LandAreainSqFt=[[x]]\n",
    "PredictedmodelResult = model.predict(LandAreainSqFt)\n",
    "print(PredictedmodelResult)"
   ]
  },
  {
   "cell_type": "markdown",
   "metadata": {
    "id": "1PbTSCtSp3lC"
   },
   "source": [
    "### Let's check is our model is Right ?\n",
    "### Theory Calculation\n",
    "### Y = m * X + b (m is coefficient and b is intercept)"
   ]
  },
  {
   "cell_type": "markdown",
   "metadata": {
    "id": "T5eVVDPvp8Hc"
   },
   "source": [
    "*Coefficient - m*"
   ]
  },
  {
   "cell_type": "code",
   "execution_count": null,
   "metadata": {
    "id": "1SvYtiI2p4ZB"
   },
   "outputs": [],
   "source": [
    "m=model.coef_\n",
    "print(m)"
   ]
  },
  {
   "cell_type": "markdown",
   "metadata": {
    "id": "nSXLgArvqBu2"
   },
   "source": [
    "*Intercept - b*"
   ]
  },
  {
   "cell_type": "code",
   "execution_count": null,
   "metadata": {
    "id": "mxyroJ6uqCet"
   },
   "outputs": [],
   "source": [
    "b=model.intercept_\n",
    "print(b)"
   ]
  },
  {
   "cell_type": "markdown",
   "metadata": {
    "id": "VCLG6YIOqEaX"
   },
   "source": [
    "### Y=mx+b\n",
    "*x is Independant variable - Input - area*"
   ]
  },
  {
   "cell_type": "code",
   "execution_count": null,
   "metadata": {
    "id": "kRHG8tUFqO1i"
   },
   "outputs": [],
   "source": [
    "y = m*x + b\n",
    "print(\"The Price of {0} Square feet Land is: {1}\".format(x,y[0]))"
   ]
  }
 ],
 "metadata": {
  "colab": {
   "collapsed_sections": [],
   "name": "11 | House price prediction using Linear Regression.ipynb",
   "provenance": []
  },
  "kernelspec": {
   "display_name": "Python 3",
   "language": "python",
   "name": "python3"
  },
  "language_info": {
   "codemirror_mode": {
    "name": "ipython",
    "version": 3
   },
   "file_extension": ".py",
   "mimetype": "text/x-python",
   "name": "python",
   "nbconvert_exporter": "python",
   "pygments_lexer": "ipython3",
   "version": "3.8.5"
  }
 },
 "nbformat": 4,
 "nbformat_minor": 1
}
