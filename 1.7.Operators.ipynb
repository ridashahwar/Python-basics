{
 "cells": [
  {
   "cell_type": "markdown",
   "metadata": {},
   "source": [
    "### Operators\n",
    "Operators are special symbols in Python that carry out arithmetic or logical computation.The value that the operator on is called the operand"
   ]
  },
  {
   "cell_type": "markdown",
   "metadata": {},
   "source": [
    "### Operator Types\n",
    "\n",
    "1.Arithmetic operators.\n",
    "\n",
    "2.Comparision operators.\n",
    "\n",
    "3.Logical operators.\n",
    "\n",
    "4.Bitwise operators.\n",
    "\n",
    "5.Assignment Operators\n",
    "\n",
    "6.Special operators"
   ]
  },
  {
   "cell_type": "code",
   "execution_count": 39,
   "metadata": {},
   "outputs": [
    {
     "name": "stdout",
     "output_type": "stream",
     "text": [
      "30\n",
      "-10\n",
      "200\n",
      "0.5\n",
      "1\n",
      "7\n"
     ]
    },
    {
     "data": {
      "text/plain": [
       "16"
      ]
     },
     "execution_count": 39,
     "metadata": {},
     "output_type": "execute_result"
    }
   ],
   "source": [
    "x,y = 10,20\n",
    "# addition\n",
    "print(x+y)\n",
    "# substraction\n",
    "print(x-y)\n",
    "# multiplication \n",
    "print(x*y)\n",
    "# division\n",
    "print(x/y)\n",
    "# modulo division(%)\n",
    "print(15%2)\n",
    "# floor division(//)\n",
    "print(15//2)\n",
    "# exponent(**)\n",
    "2**4\n"
   ]
  },
  {
   "cell_type": "markdown",
   "metadata": {},
   "source": [
    "### Comparision Operators\n",
    "Comparison operators are used to compare values.It either returns  true or false according to the condition"
   ]
  },
  {
   "cell_type": "markdown",
   "metadata": {},
   "source": [
    ">,<,==,!=,>=,<= are comparision operators"
   ]
  },
  {
   "cell_type": "code",
   "execution_count": 40,
   "metadata": {},
   "outputs": [
    {
     "name": "stdout",
     "output_type": "stream",
     "text": [
      "True\n"
     ]
    }
   ],
   "source": [
    "a, b = 10, 20\n",
    "print(a<b)# check a is less than b"
   ]
  },
  {
   "cell_type": "markdown",
   "metadata": {},
   "source": [
    "### Logical Operators"
   ]
  },
  {
   "cell_type": "markdown",
   "metadata": {},
   "source": [
    "logical operators are and or not operators"
   ]
  },
  {
   "cell_type": "code",
   "execution_count": 42,
   "metadata": {},
   "outputs": [
    {
     "name": "stdout",
     "output_type": "stream",
     "text": [
      "True\n"
     ]
    }
   ],
   "source": [
    "a,b = True, False\n",
    "# print a and b\n",
    "print(a or b)\n"
   ]
  },
  {
   "cell_type": "markdown",
   "metadata": {},
   "source": [
    "###  Bitwise operators\n",
    "Bitwise operators act on operands as if  they were string of binary digits.It operates bit by bit "
   ]
  },
  {
   "cell_type": "code",
   "execution_count": 1,
   "metadata": {},
   "outputs": [
    {
     "name": "stdout",
     "output_type": "stream",
     "text": [
      "0\n",
      "14\n"
     ]
    }
   ],
   "source": [
    "a, b = 10, 4\n",
    "# Bitwise AND\n",
    "print(a&b)\n",
    "# Bitwise OR\n",
    "print(a|b)\n",
    "# Bitwise NOT\n",
    "\n",
    "# Bitwise XOR\n",
    "\n",
    "# Bitwise rightshift\n",
    "\n",
    "# Bitwise leftsift\n",
    "\n"
   ]
  },
  {
   "cell_type": "markdown",
   "metadata": {},
   "source": [
    "### Assignment operators"
   ]
  },
  {
   "cell_type": "markdown",
   "metadata": {},
   "source": [
    "Assignment operators are used in Python to assign values to variables.\n",
    "\n",
    "\n",
    "a= 5 is a simple assignment operator that assigns the value 5 on the right to the variable a on the left\n",
    "\n",
    "=, +=, -=,*=, /=, %=, //=, **=, &=,|=,^=, >>=, <<= are assignement operators.\n"
   ]
  },
  {
   "cell_type": "code",
   "execution_count": 26,
   "metadata": {},
   "outputs": [
    {
     "name": "stdout",
     "output_type": "stream",
     "text": [
      "20\n"
     ]
    }
   ],
   "source": [
    "a = 10\n",
    "\n",
    "a+=10 \n",
    "print(a)\n",
    "# substract AND (-=)\n",
    "\n",
    "# Multiply AND (*=)\n",
    "\n",
    "# divide AND (/=)\n",
    "\n",
    "# modulus AND(%=)\n",
    "\n",
    "# Floor Division(//=)\n",
    "\n",
    "#Exponent AND(**=)"
   ]
  },
  {
   "cell_type": "markdown",
   "metadata": {},
   "source": [
    "### Special Operators\n",
    "\n",
    "identity operators\n",
    "\n",
    "is and is not are the identity operators in Python.\n",
    "they are used to check if two values(or variables) are located on teh same part of the memory.\n"
   ]
  },
  {
   "cell_type": "code",
   "execution_count": 43,
   "metadata": {},
   "outputs": [
    {
     "name": "stdout",
     "output_type": "stream",
     "text": [
      "True\n"
     ]
    }
   ],
   "source": [
    "a= 5\n",
    "b= 5\n",
    "print(a is b) #5 is object created once both a and b points to same object\n",
    "\n",
    "#check is not"
   ]
  },
  {
   "cell_type": "code",
   "execution_count": 44,
   "metadata": {},
   "outputs": [
    {
     "name": "stdout",
     "output_type": "stream",
     "text": [
      "False\n"
     ]
    }
   ],
   "source": [
    "l1 = [1,2,3]\n",
    "l2 = [1,2,3]\n",
    "print(l1 is  l2)"
   ]
  },
  {
   "cell_type": "code",
   "execution_count": 3,
   "metadata": {},
   "outputs": [
    {
     "name": "stdout",
     "output_type": "stream",
     "text": [
      "True\n"
     ]
    }
   ],
   "source": [
    "s1 = 'AAIC'\n",
    "s2 = 'AAIC'\n",
    "print(s1 is s2)\n"
   ]
  },
  {
   "cell_type": "markdown",
   "metadata": {},
   "source": [
    "### Membership Operators \n",
    "in and not in are the membership operators in python.\n",
    "\n",
    "They are used to test whether a value or variable is found in a sequence (string,list,tuple, set and dictionary).\n",
    "\n"
   ]
  },
  {
   "cell_type": "code",
   "execution_count": 4,
   "metadata": {},
   "outputs": [
    {
     "name": "stdout",
     "output_type": "stream",
     "text": [
      "True\n",
      "False\n"
     ]
    }
   ],
   "source": [
    "lst= [1,2,3,4]\n",
    "print (1 in lst) #check 1 is present in a given list or not \n",
    "                 #check 5 is present in a given list\n",
    "print(8 in lst)    \n"
   ]
  },
  {
   "cell_type": "code",
   "execution_count": 7,
   "metadata": {},
   "outputs": [
    {
     "name": "stdout",
     "output_type": "stream",
     "text": [
      "True\n"
     ]
    }
   ],
   "source": [
    "d = {1:'a',2:'b'} # this is a dictionary \n",
    "print(2 in d)"
   ]
  },
  {
   "cell_type": "code",
   "execution_count": null,
   "metadata": {},
   "outputs": [],
   "source": []
  }
 ],
 "metadata": {
  "kernelspec": {
   "display_name": "Python 3",
   "language": "python",
   "name": "python3"
  },
  "language_info": {
   "codemirror_mode": {
    "name": "ipython",
    "version": 3
   },
   "file_extension": ".py",
   "mimetype": "text/x-python",
   "name": "python",
   "nbconvert_exporter": "python",
   "pygments_lexer": "ipython3",
   "version": "3.8.5"
  }
 },
 "nbformat": 4,
 "nbformat_minor": 2
}
